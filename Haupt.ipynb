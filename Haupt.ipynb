{
 "cells": [
  {
   "cell_type": "code",
   "execution_count": 2,
   "id": "444ad67a-5c68-4fa4-9aff-6e3e7fc94e94",
   "metadata": {},
   "outputs": [],
   "source": [
    "import numpy as np\n",
    "import matplotlib as ml\n",
    "import pandapower as pd"
   ]
  },
  {
   "cell_type": "code",
   "execution_count": 6,
   "id": "f895e6d5-48bc-48f8-8b82-f25d0472390d",
   "metadata": {},
   "outputs": [],
   "source": [
    "def Bilanz(Bedarf,Energie):\n",
    "    Ka=Bedarf-Energie\n",
    "    return Ka"
   ]
  },
  {
   "cell_type": "code",
   "execution_count": 10,
   "id": "b2378e00-2174-40aa-9065-994edc86bfb1",
   "metadata": {},
   "outputs": [],
   "source": [
    "def Erzeugung(Bestrahlung,Flaeche,Standortdaten):\n",
    "    return Energie"
   ]
  },
  {
   "cell_type": "code",
   "execution_count": 41,
   "id": "de6652ff-386e-4597-adac-6be0951f1231",
   "metadata": {},
   "outputs": [],
   "source": [
    "class Batterie:\n",
    "    def __init__(self,maximale_Kapazitaet,min_Kap,Ladezustand):\n",
    "        self.maximale_Kapazitaet=maximale_Kapazitaet\n",
    "        self.min_Kap=min_Kap\n",
    "        self.Ladezustand=Ladezustand"
   ]
  },
  {
   "cell_type": "code",
   "execution_count": 38,
   "id": "0158b65f-b6f8-4f77-964a-da1f9df254e1",
   "metadata": {},
   "outputs": [],
   "source": [
    "class Solarmodul:\n",
    "    def __init__(self,Wirkungsgrad,Flaeche,Wp):\n",
    "        self.Wirkungsgrad=Wirkungsgrad\n",
    "        self.min_Kap=Flaeche\n",
    "        self.Wp=Wp"
   ]
  },
  {
   "cell_type": "code",
   "execution_count": 43,
   "id": "2c21f497-d2a1-4839-af31-ec9652493168",
   "metadata": {},
   "outputs": [],
   "source": [
    "K1=Batterie(1000,10,100)"
   ]
  },
  {
   "cell_type": "code",
   "execution_count": 44,
   "id": "ca4397f8-0887-4bf0-aabd-513ddfab2ff8",
   "metadata": {},
   "outputs": [
    {
     "name": "stdout",
     "output_type": "stream",
     "text": [
      "100\n"
     ]
    }
   ],
   "source": [
    "print(K1.Ladezustand)"
   ]
  },
  {
   "cell_type": "code",
   "execution_count": 68,
   "id": "5d557ceb-ae14-43f7-9020-b2c6fa106594",
   "metadata": {},
   "outputs": [],
   "source": [
    "def Laden(Solarmodul,Anzahl,Batterie,Standortdaten,Last):\n",
    "    t=0\n",
    "    Ladung=[Batterie.Ladezustand]\n",
    "    while t<5700:\n",
    "        Ladung.append(Ladung[t]-Last)\n",
    "        t=t+1\n",
    "    return Ladung"
   ]
  },
  {
   "cell_type": "code",
   "execution_count": null,
   "id": "76d8020b-5993-45e9-8df5-b21cc3f691f5",
   "metadata": {},
   "outputs": [],
   "source": []
  }
 ],
 "metadata": {
  "kernelspec": {
   "display_name": "Python 3 (ipykernel)",
   "language": "python",
   "name": "python3"
  },
  "language_info": {
   "codemirror_mode": {
    "name": "ipython",
    "version": 3
   },
   "file_extension": ".py",
   "mimetype": "text/x-python",
   "name": "python",
   "nbconvert_exporter": "python",
   "pygments_lexer": "ipython3",
   "version": "3.10.11"
  }
 },
 "nbformat": 4,
 "nbformat_minor": 5
}
